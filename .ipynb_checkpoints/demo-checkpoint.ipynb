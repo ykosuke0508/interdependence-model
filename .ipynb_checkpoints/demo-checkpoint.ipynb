{
 "cells": [
  {
   "cell_type": "markdown",
   "metadata": {},
   "source": [
    "# Demo"
   ]
  },
  {
   "cell_type": "markdown",
   "metadata": {},
   "source": [
    "## normal setting"
   ]
  },
  {
   "cell_type": "code",
   "execution_count": 19,
   "metadata": {
    "collapsed": false
   },
   "outputs": [
    {
     "name": "stdout",
     "output_type": "stream",
     "text": [
      "Accuracy of IDD model :  0.4513888888888889\n",
      "Accuracy of BR model :  0.4083333333333333\n",
      "Method Name     : Interdependence Model\n",
      "Training Time   : 0.8178 [sec]\n",
      "Prediction Time : 0.7430 [sec]\n"
     ]
    }
   ],
   "source": [
    "import numpy as np\n",
    "from sklearn.preprocessing import MinMaxScaler\n",
    "from sklearn.linear_model import LogisticRegression\n",
    "from evaluation_metric import metrics\n",
    "from proposed_method import interdependence_model\n",
    "from download_datasets.multilabel_datasets import load_scene\n",
    "from conventional_method import problem_transformation_methods as ptm\n",
    "\n",
    "# load scene dataset if you have; otherwise download scene zip, unzip the file, and load the data.\n",
    "data = load_scene()\n",
    "\n",
    "# feature data\n",
    "X = data.features\n",
    "\n",
    "# label data\n",
    "y = data.labels\n",
    "\n",
    "# make train data and test data\n",
    "n_samples = data.n_samples\n",
    "test_ratio = 0.1\n",
    "n_test_samples = int(n_samples * test_ratio)\n",
    "\n",
    "#NOTE: in this demo, you didn't shuffle data.\n",
    "X_test = X[:n_test_samples]\n",
    "X_train = X[n_test_samples:]\n",
    "\n",
    "y_test = y[:n_test_samples]\n",
    "y_train = y[n_test_samples:]\n",
    "\n",
    "# Normalize Data X\n",
    "ms = MinMaxScaler()\n",
    "\n",
    "X_train = ms.fit_transform(X_train)\n",
    "X_test = ms.transform(X_test)\n",
    "\n",
    "# proposed model\n",
    "IDD = interdependence_model.InterdependenceModel(LogisticRegression(C = 1), prediction_method = \"ESwP\")\n",
    "\n",
    "# conventional model\n",
    "BR = ptm.BinaryRelevance(LogisticRegression(C = 1))\n",
    "\n",
    "# training step\n",
    "IDD.fit(X_train, y_train)\n",
    "BR.fit(X_train, y_train)\n",
    "\n",
    "# prediction step\n",
    "IDD_pred = IDD.predict(X_test)\n",
    "BR_pred = BR.predict(X_test)\n",
    "\n",
    "# evaluation\n",
    "IDD_score = metrics.accuracy(y_test, IDD_pred)\n",
    "BR_score = metrics.accuracy(y_test, BR_pred)\n",
    "\n",
    "# output results\n",
    "print(\"Accuracy of IDD model :  \" + str(IDD_score))\n",
    "print(\"Accuracy of BR model :  \" + str(BR_score))\n",
    "\n",
    "IDD.print_time()"
   ]
  },
  {
   "cell_type": "markdown",
   "metadata": {
    "collapsed": true
   },
   "source": [
    "## with prior knowledge"
   ]
  },
  {
   "cell_type": "code",
   "execution_count": 22,
   "metadata": {
    "collapsed": false
   },
   "outputs": [
    {
     "name": "stdout",
     "output_type": "stream",
     "text": [
      "Accuracy of IDD model :  0.8\n",
      "Accuracy of BR model :  0.6895833333333333\n",
      "Method Name     : Interdependence Model\n",
      "Training Time   : 0.8936 [sec]\n",
      "Prediction Time : 0.2595 [sec]\n"
     ]
    }
   ],
   "source": [
    "# make prior knowledge\n",
    "pknow = ptm.generate_prior_knowledge(y_test, n_open_labels=3, same=False, seed = None)\n",
    "\n",
    "# proposed model\n",
    "IDD = interdependence_model.InterdependenceModel(LogisticRegression(C = 1), prediction_method = \"ESwP\")\n",
    "\n",
    "# conventional model\n",
    "BR = ptm.BinaryRelevance(LogisticRegression(C = 1))\n",
    "\n",
    "# training step\n",
    "IDD.fit(X_train, y_train,)\n",
    "BR.fit(X_train, y_train)\n",
    "\n",
    "# prediction step\n",
    "IDD_pred = IDD.predict(X_test,prior_knowledge=pknow)\n",
    "BR_pred = BR.predict(X_test,prior_knowledge=pknow)\n",
    "\n",
    "# evaluation\n",
    "IDD_score = metrics.accuracy(y_test, IDD_pred)\n",
    "BR_score = metrics.accuracy(y_test, BR_pred)\n",
    "\n",
    "# output results\n",
    "print(\"Accuracy of IDD model :  \" + str(IDD_score))\n",
    "print(\"Accuracy of BR model :  \" + str(BR_score))\n",
    "\n",
    "IDD.print_time()"
   ]
  },
  {
   "cell_type": "code",
   "execution_count": null,
   "metadata": {
    "collapsed": true
   },
   "outputs": [],
   "source": []
  }
 ],
 "metadata": {
  "kernelspec": {
   "display_name": "Python 3",
   "language": "python",
   "name": "python3"
  },
  "language_info": {
   "codemirror_mode": {
    "name": "ipython",
    "version": 3
   },
   "file_extension": ".py",
   "mimetype": "text/x-python",
   "name": "python",
   "nbconvert_exporter": "python",
   "pygments_lexer": "ipython3",
   "version": "3.5.2"
  }
 },
 "nbformat": 4,
 "nbformat_minor": 0
}
